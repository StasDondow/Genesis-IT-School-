{
 "cells": [
  {
   "cell_type": "code",
   "execution_count": 1,
   "id": "3817e64c",
   "metadata": {},
   "outputs": [],
   "source": [
    "import pandas as pd"
   ]
  },
  {
   "cell_type": "markdown",
   "id": "87a41dc4",
   "metadata": {},
   "source": [
    "### Task 1"
   ]
  },
  {
   "cell_type": "code",
   "execution_count": 3,
   "id": "096f6dc3",
   "metadata": {},
   "outputs": [
    {
     "data": {
      "text/html": [
       "<div>\n",
       "<style scoped>\n",
       "    .dataframe tbody tr th:only-of-type {\n",
       "        vertical-align: middle;\n",
       "    }\n",
       "\n",
       "    .dataframe tbody tr th {\n",
       "        vertical-align: top;\n",
       "    }\n",
       "\n",
       "    .dataframe thead th {\n",
       "        text-align: right;\n",
       "    }\n",
       "</style>\n",
       "<table border=\"1\" class=\"dataframe\">\n",
       "  <thead>\n",
       "    <tr style=\"text-align: right;\">\n",
       "      <th></th>\n",
       "      <th>Date</th>\n",
       "      <th>Media Source</th>\n",
       "      <th>Impressions</th>\n",
       "      <th>Clicks</th>\n",
       "      <th>Installs</th>\n",
       "      <th>CR to install</th>\n",
       "      <th>Conversion action (trials)</th>\n",
       "      <th>Total Cost</th>\n",
       "      <th>Total Revenue</th>\n",
       "    </tr>\n",
       "  </thead>\n",
       "  <tbody>\n",
       "    <tr>\n",
       "      <th>0</th>\n",
       "      <td>2023-09-30</td>\n",
       "      <td>facebook</td>\n",
       "      <td>229908</td>\n",
       "      <td>2787.0</td>\n",
       "      <td>657</td>\n",
       "      <td>0.235737</td>\n",
       "      <td>210</td>\n",
       "      <td>3667.91</td>\n",
       "      <td>2320.5</td>\n",
       "    </tr>\n",
       "    <tr>\n",
       "      <th>1</th>\n",
       "      <td>2023-09-30</td>\n",
       "      <td>facebook</td>\n",
       "      <td>222695</td>\n",
       "      <td>2782.0</td>\n",
       "      <td>755</td>\n",
       "      <td>0.271387</td>\n",
       "      <td>173</td>\n",
       "      <td>2861.00</td>\n",
       "      <td>-2227.0</td>\n",
       "    </tr>\n",
       "    <tr>\n",
       "      <th>2</th>\n",
       "      <td>2023-09-30</td>\n",
       "      <td>facebook</td>\n",
       "      <td>251028</td>\n",
       "      <td>2851.0</td>\n",
       "      <td>663</td>\n",
       "      <td>0.232550</td>\n",
       "      <td>155</td>\n",
       "      <td>2782.00</td>\n",
       "      <td>-2166.0</td>\n",
       "    </tr>\n",
       "    <tr>\n",
       "      <th>3</th>\n",
       "      <td>2023-09-30</td>\n",
       "      <td>facebook</td>\n",
       "      <td>235129</td>\n",
       "      <td>3623.0</td>\n",
       "      <td>738</td>\n",
       "      <td>0.203699</td>\n",
       "      <td>198</td>\n",
       "      <td>3486.00</td>\n",
       "      <td>2345.0</td>\n",
       "    </tr>\n",
       "    <tr>\n",
       "      <th>4</th>\n",
       "      <td>2023-09-30</td>\n",
       "      <td>facebook</td>\n",
       "      <td>169063</td>\n",
       "      <td>2568.0</td>\n",
       "      <td>830</td>\n",
       "      <td>0.323209</td>\n",
       "      <td>260</td>\n",
       "      <td>3308.00</td>\n",
       "      <td>2609.0</td>\n",
       "    </tr>\n",
       "  </tbody>\n",
       "</table>\n",
       "</div>"
      ],
      "text/plain": [
       "        Date Media Source  Impressions  Clicks  Installs  CR to install   \n",
       "0 2023-09-30     facebook       229908  2787.0       657       0.235737  \\\n",
       "1 2023-09-30     facebook       222695  2782.0       755       0.271387   \n",
       "2 2023-09-30     facebook       251028  2851.0       663       0.232550   \n",
       "3 2023-09-30     facebook       235129  3623.0       738       0.203699   \n",
       "4 2023-09-30     facebook       169063  2568.0       830       0.323209   \n",
       "\n",
       "   Conversion action (trials)  Total Cost  Total Revenue  \n",
       "0                         210     3667.91         2320.5  \n",
       "1                         173     2861.00        -2227.0  \n",
       "2                         155     2782.00        -2166.0  \n",
       "3                         198     3486.00         2345.0  \n",
       "4                         260     3308.00         2609.0  "
      ]
     },
     "execution_count": 3,
     "metadata": {},
     "output_type": "execute_result"
    }
   ],
   "source": [
    "marketing_data = pd.read_excel(\"Case Task.xlsx\", sheet_name=\"MARKETING DATA\")\n",
    "marketing_data.head()"
   ]
  },
  {
   "cell_type": "code",
   "execution_count": 3,
   "id": "512cb646",
   "metadata": {},
   "outputs": [
    {
     "data": {
      "text/plain": [
       "(1913, 9)"
      ]
     },
     "execution_count": 3,
     "metadata": {},
     "output_type": "execute_result"
    }
   ],
   "source": [
    "marketing_data.shape"
   ]
  },
  {
   "cell_type": "code",
   "execution_count": 4,
   "id": "b6f4d48b",
   "metadata": {},
   "outputs": [
    {
     "data": {
      "text/plain": [
       "Date                          datetime64[ns]\n",
       "Media Source                          object\n",
       "Impressions                            int64\n",
       "Clicks                               float64\n",
       "Installs                               int64\n",
       "CR to install                        float64\n",
       "Conversion action (trials)             int64\n",
       "Total Cost                           float64\n",
       "Total Revenue                        float64\n",
       "dtype: object"
      ]
     },
     "execution_count": 4,
     "metadata": {},
     "output_type": "execute_result"
    }
   ],
   "source": [
    "marketing_data.dtypes"
   ]
  },
  {
   "cell_type": "code",
   "execution_count": 4,
   "id": "cd4513fd",
   "metadata": {},
   "outputs": [
    {
     "data": {
      "text/plain": [
       "(1806, 9)"
      ]
     },
     "execution_count": 4,
     "metadata": {},
     "output_type": "execute_result"
    }
   ],
   "source": [
    "# select only September\n",
    "\n",
    "marketing_data_sep = marketing_data.loc[\n",
    "    (marketing_data[\"Date\"] >= \"2023-09-01\") & (marketing_data[\"Date\"] < \"2023-10-01\")\n",
    "]\n",
    "marketing_data_sep.shape"
   ]
  },
  {
   "cell_type": "code",
   "execution_count": 6,
   "id": "3911cc76",
   "metadata": {},
   "outputs": [
    {
     "data": {
      "text/plain": [
       "array(['facebook', 'snapchat', 'tiktok', nan, 'Organic', 'email',\n",
       "       'social', 'social_network', 'Email', 'appsflyer_sdk_test_int',\n",
       "       'User invite', 'Apple Search Ads', 'viral'], dtype=object)"
      ]
     },
     "execution_count": 6,
     "metadata": {},
     "output_type": "execute_result"
    }
   ],
   "source": [
    "marketing_data[\"Media Source\"].unique()"
   ]
  },
  {
   "cell_type": "code",
   "execution_count": 12,
   "id": "b2470f09",
   "metadata": {},
   "outputs": [
    {
     "name": "stdout",
     "output_type": "stream",
     "text": [
      "facebook: 152639418\n",
      "tiktok: 15704237\n",
      "snapchat: 17020457\n"
     ]
    }
   ],
   "source": [
    "# Number of impressions\n",
    "\n",
    "for source in [\"facebook\", \"tiktok\", \"snapchat\"]:\n",
    "    print(source, \": \", marketing_data_sep[marketing_data_sep[\"Media Source\"] == source][\"Impressions\"].sum(), sep=\"\")"
   ]
  },
  {
   "cell_type": "code",
   "execution_count": 15,
   "id": "957e5d07",
   "metadata": {},
   "outputs": [
    {
     "name": "stdout",
     "output_type": "stream",
     "text": [
      "facebook: 1635110.0\n",
      "tiktok: 164141.0\n",
      "snapchat: 309087.0\n"
     ]
    }
   ],
   "source": [
    "# Number of clicks\n",
    "\n",
    "for source in [\"facebook\", \"tiktok\", \"snapchat\"]:\n",
    "    print(source, \": \", marketing_data_sep[marketing_data_sep[\"Media Source\"] == source][\"Clicks\"].sum(), sep=\"\")"
   ]
  },
  {
   "cell_type": "code",
   "execution_count": 16,
   "id": "fd0ab388",
   "metadata": {},
   "outputs": [
    {
     "name": "stdout",
     "output_type": "stream",
     "text": [
      "facebook: 620123\n",
      "tiktok: 56356\n",
      "snapchat: 44950\n"
     ]
    }
   ],
   "source": [
    "# Number of installs\n",
    "\n",
    "for source in [\"facebook\", \"tiktok\", \"snapchat\"]:\n",
    "    print(source, \": \", marketing_data_sep[marketing_data_sep[\"Media Source\"] == source][\"Installs\"].sum(), sep=\"\")"
   ]
  },
  {
   "cell_type": "code",
   "execution_count": 17,
   "id": "93b55bbc",
   "metadata": {},
   "outputs": [
    {
     "name": "stdout",
     "output_type": "stream",
     "text": [
      "facebook: 120122\n",
      "tiktok: 14797\n",
      "snapchat: 16519\n"
     ]
    }
   ],
   "source": [
    "# Number of conversions\n",
    "\n",
    "for source in [\"facebook\", \"tiktok\", \"snapchat\"]:\n",
    "    print(source, \": \", marketing_data_sep[marketing_data_sep[\"Media Source\"] == source][\"Conversion action (trials)\"].sum(), sep=\"\")"
   ]
  },
  {
   "cell_type": "code",
   "execution_count": 23,
   "id": "08ab0325",
   "metadata": {},
   "outputs": [
    {
     "name": "stdout",
     "output_type": "stream",
     "text": [
      "facebook: 13.63\n",
      "tiktok: 9.94\n",
      "snapchat: 13.49\n"
     ]
    }
   ],
   "source": [
    "# CPM\n",
    "\n",
    "for source in [\"facebook\", \"tiktok\", \"snapchat\"]:\n",
    "    total_cost = marketing_data_sep[marketing_data_sep[\"Media Source\"] == source][\"Total Cost\"].sum()\n",
    "    total_impressions = marketing_data_sep[marketing_data_sep[\"Media Source\"] == source][\"Impressions\"].sum()\n",
    "    cpm = 1000 * total_cost / total_impressions\n",
    "    print(source, \": \", f'{cpm:.2f}', sep=\"\")"
   ]
  },
  {
   "cell_type": "code",
   "execution_count": 37,
   "id": "02de42fb",
   "metadata": {},
   "outputs": [
    {
     "name": "stdout",
     "output_type": "stream",
     "text": [
      "facebook: 0.010712239481940373\n",
      "tiktok: 0.010452020050385128\n",
      "snapchat: 0.01815973566397189\n"
     ]
    }
   ],
   "source": [
    "# CTR\n",
    "\n",
    "for source in [\"facebook\", \"tiktok\", \"snapchat\"]:\n",
    "    total_clicks = marketing_data_sep[marketing_data_sep[\"Media Source\"] == source][\"Clicks\"].sum()\n",
    "    total_impressions = marketing_data_sep[marketing_data_sep[\"Media Source\"] == source][\"Impressions\"].sum()\n",
    "    ctr = total_clicks / total_impressions\n",
    "    print(source, \": \", ctr, sep=\"\")"
   ]
  },
  {
   "cell_type": "code",
   "execution_count": 25,
   "id": "c9deb81f",
   "metadata": {},
   "outputs": [
    {
     "name": "stdout",
     "output_type": "stream",
     "text": [
      "facebook: 1.27\n",
      "tiktok: 0.95\n",
      "snapchat: 0.74\n"
     ]
    }
   ],
   "source": [
    "# CPC\n",
    "\n",
    "for source in [\"facebook\", \"tiktok\", \"snapchat\"]:\n",
    "    total_cost = marketing_data_sep[marketing_data_sep[\"Media Source\"] == source][\"Total Cost\"].sum()\n",
    "    total_clicks = marketing_data_sep[marketing_data_sep[\"Media Source\"] == source][\"Clicks\"].sum()\n",
    "    cpc = total_cost / total_clicks\n",
    "    print(source, \": \", f'{cpc:.2f}', sep=\"\")"
   ]
  },
  {
   "cell_type": "code",
   "execution_count": 26,
   "id": "84f87718",
   "metadata": {},
   "outputs": [
    {
     "name": "stdout",
     "output_type": "stream",
     "text": [
      "facebook: 17.31\n",
      "tiktok: 10.55\n",
      "snapchat: 13.90\n"
     ]
    }
   ],
   "source": [
    "# CPA\n",
    "\n",
    "for source in [\"facebook\", \"tiktok\", \"snapchat\"]:\n",
    "    total_cost = marketing_data_sep[marketing_data_sep[\"Media Source\"] == source][\"Total Cost\"].sum()\n",
    "    total_actions = marketing_data_sep[marketing_data_sep[\"Media Source\"] == source][\"Conversion action (trials)\"].sum()\n",
    "    cpa = total_cost / total_actions\n",
    "    print(source, \": \", f'{cpa:.2f}', sep=\"\")"
   ]
  },
  {
   "cell_type": "code",
   "execution_count": 35,
   "id": "972cd3ce",
   "metadata": {},
   "outputs": [
    {
     "name": "stdout",
     "output_type": "stream",
     "text": [
      "facebook: 2079751.4700000002\n",
      "tiktok: 156150.38\n",
      "snapchat: 229542.07\n"
     ]
    }
   ],
   "source": [
    "# Total Cost\n",
    "\n",
    "for source in [\"facebook\", \"tiktok\", \"snapchat\"]:\n",
    "    print(source, \": \", marketing_data_sep[marketing_data_sep[\"Media Source\"] == source][\"Total Cost\"].sum(), sep=\"\")"
   ]
  },
  {
   "cell_type": "code",
   "execution_count": 6,
   "id": "7902637f",
   "metadata": {},
   "outputs": [
    {
     "name": "stdout",
     "output_type": "stream",
     "text": [
      "facebook: 0.38\n",
      "tiktok: 0.34\n",
      "snapchat: 0.15\n"
     ]
    }
   ],
   "source": [
    "# Conversion from a click to an install\n",
    "\n",
    "for source in [\"facebook\", \"tiktok\", \"snapchat\"]:\n",
    "    total_clicks = marketing_data_sep[marketing_data_sep[\"Media Source\"] == source][\"Clicks\"].sum()\n",
    "    total_installs = marketing_data_sep[marketing_data_sep[\"Media Source\"] == source][\"Installs\"].sum()\n",
    "    conversion = total_installs / total_clicks\n",
    "    print(source, \": \", f'{conversion:.2f}', sep=\"\")"
   ]
  },
  {
   "cell_type": "code",
   "execution_count": 7,
   "id": "1bcdb3bd",
   "metadata": {},
   "outputs": [
    {
     "name": "stdout",
     "output_type": "stream",
     "text": [
      "facebook: 0.19\n",
      "tiktok: 0.26\n",
      "snapchat: 0.37\n"
     ]
    }
   ],
   "source": [
    "# Conversion from install to conversion\n",
    "\n",
    "for source in [\"facebook\", \"tiktok\", \"snapchat\"]:\n",
    "    total_installs = marketing_data_sep[marketing_data_sep[\"Media Source\"] == source][\"Installs\"].sum()\n",
    "    total_conversion = marketing_data_sep[marketing_data_sep[\"Media Source\"] == source][\"Conversion action (trials)\"].sum()\n",
    "    conversion = total_conversion / total_installs\n",
    "    print(source, \": \", f'{conversion:.2f}', sep=\"\")"
   ]
  },
  {
   "cell_type": "code",
   "execution_count": 9,
   "id": "6107eb25",
   "metadata": {},
   "outputs": [
    {
     "name": "stdout",
     "output_type": "stream",
     "text": [
      "facebook: 525684.95\n",
      "tiktok: 61653.94\n",
      "snapchat: 73709.36\n"
     ]
    }
   ],
   "source": [
    "# Total Revenue Gross\n",
    "\n",
    "for source in [\"facebook\", \"tiktok\", \"snapchat\"]:\n",
    "    rev_gross = marketing_data_sep[marketing_data_sep[\"Media Source\"] == source][\"Total Revenue\"].sum()\n",
    "    print(source, \": \", f'{rev_gross:.2f}', sep=\"\")"
   ]
  },
  {
   "cell_type": "code",
   "execution_count": 10,
   "id": "d9979c30",
   "metadata": {},
   "outputs": [
    {
     "name": "stdout",
     "output_type": "stream",
     "text": [
      "facebook: 367979.46\n",
      "tiktok: 43157.76\n",
      "snapchat: 51596.55\n"
     ]
    }
   ],
   "source": [
    "# Total Revenue Net\n",
    "\n",
    "for source in [\"facebook\", \"tiktok\", \"snapchat\"]:\n",
    "    rev_net = marketing_data_sep[marketing_data_sep[\"Media Source\"] == source][\"Total Revenue\"].sum() * 0.7\n",
    "    print(source, \": \", f'{rev_net:.2f}', sep=\"\")"
   ]
  },
  {
   "cell_type": "code",
   "execution_count": 11,
   "id": "a9c36699",
   "metadata": {},
   "outputs": [
    {
     "name": "stdout",
     "output_type": "stream",
     "text": [
      "facebook: -0.82\n",
      "tiktok: -0.72\n",
      "snapchat: -0.78\n"
     ]
    }
   ],
   "source": [
    "# ROI\n",
    "\n",
    "for source in [\"facebook\", \"tiktok\", \"snapchat\"]:\n",
    "    rev_net = marketing_data_sep[marketing_data_sep[\"Media Source\"] == source][\"Total Revenue\"].sum() * 0.7\n",
    "    total_cost = marketing_data_sep[marketing_data_sep[\"Media Source\"] == source][\"Total Cost\"].sum()\n",
    "    roi = (rev_net - total_cost) / total_cost\n",
    "    print(source, \": \", f'{roi:.2f}', sep=\"\")"
   ]
  },
  {
   "cell_type": "markdown",
   "id": "28e09b06",
   "metadata": {},
   "source": [
    "### Task 2"
   ]
  },
  {
   "cell_type": "code",
   "execution_count": 2,
   "id": "8be52547",
   "metadata": {},
   "outputs": [
    {
     "data": {
      "text/html": [
       "<div>\n",
       "<style scoped>\n",
       "    .dataframe tbody tr th:only-of-type {\n",
       "        vertical-align: middle;\n",
       "    }\n",
       "\n",
       "    .dataframe tbody tr th {\n",
       "        vertical-align: top;\n",
       "    }\n",
       "\n",
       "    .dataframe thead th {\n",
       "        text-align: right;\n",
       "    }\n",
       "</style>\n",
       "<table border=\"1\" class=\"dataframe\">\n",
       "  <thead>\n",
       "    <tr style=\"text-align: right;\">\n",
       "      <th></th>\n",
       "      <th>user_id</th>\n",
       "      <th>install_date</th>\n",
       "      <th>subscription_name</th>\n",
       "      <th>payment_type</th>\n",
       "      <th>event_date</th>\n",
       "      <th>country</th>\n",
       "      <th>device_family</th>\n",
       "      <th>device_type</th>\n",
       "      <th>os_version</th>\n",
       "      <th>language</th>\n",
       "      <th>system_theme</th>\n",
       "      <th>refund</th>\n",
       "    </tr>\n",
       "  </thead>\n",
       "  <tbody>\n",
       "    <tr>\n",
       "      <th>0</th>\n",
       "      <td>ed7bba31-2aa0-411d-ab51-727e91bb91af</td>\n",
       "      <td>2023-06-01</td>\n",
       "      <td>subs_weekly_7dayTrial_4.99</td>\n",
       "      <td>free trial</td>\n",
       "      <td>2023-06-01</td>\n",
       "      <td>Argentina</td>\n",
       "      <td>Apple iPhone</td>\n",
       "      <td>Apple iPhone X</td>\n",
       "      <td>16.4.1</td>\n",
       "      <td>Spanish</td>\n",
       "      <td>light</td>\n",
       "      <td>NaN</td>\n",
       "    </tr>\n",
       "    <tr>\n",
       "      <th>1</th>\n",
       "      <td>b28a53ac-a75b-401e-a839-56b68fc84581</td>\n",
       "      <td>2023-06-01</td>\n",
       "      <td>subs_weekly_7dayTrial_4.99</td>\n",
       "      <td>free trial</td>\n",
       "      <td>2023-06-01</td>\n",
       "      <td>United States</td>\n",
       "      <td>Apple iPhone</td>\n",
       "      <td>Apple iPhone 13 Pro Max</td>\n",
       "      <td>16.4.1</td>\n",
       "      <td>English</td>\n",
       "      <td>light</td>\n",
       "      <td>NaN</td>\n",
       "    </tr>\n",
       "    <tr>\n",
       "      <th>2</th>\n",
       "      <td>2d4e82cc-845e-408d-a2c8-545648349c4f</td>\n",
       "      <td>2023-06-01</td>\n",
       "      <td>subs_weekly_7dayTrial_4.99</td>\n",
       "      <td>free trial</td>\n",
       "      <td>2023-06-01</td>\n",
       "      <td>Brazil</td>\n",
       "      <td>Apple iPhone</td>\n",
       "      <td>Apple iPhone 8</td>\n",
       "      <td>16.1.1</td>\n",
       "      <td>Portuguese</td>\n",
       "      <td>dark</td>\n",
       "      <td>NaN</td>\n",
       "    </tr>\n",
       "    <tr>\n",
       "      <th>3</th>\n",
       "      <td>e9d0bd86-138e-4e78-ac99-e45b85518567</td>\n",
       "      <td>2023-06-01</td>\n",
       "      <td>subs_weekly_7dayTrial_4.99</td>\n",
       "      <td>free trial</td>\n",
       "      <td>2023-06-01</td>\n",
       "      <td>Japan</td>\n",
       "      <td>Apple iPhone</td>\n",
       "      <td>Apple iPhone XS</td>\n",
       "      <td>16.5</td>\n",
       "      <td>Japanese</td>\n",
       "      <td>dark</td>\n",
       "      <td>NaN</td>\n",
       "    </tr>\n",
       "    <tr>\n",
       "      <th>4</th>\n",
       "      <td>e6c5188d-3152-423a-9c9e-9846fb81f420</td>\n",
       "      <td>2023-06-01</td>\n",
       "      <td>subs_weekly_7dayTrial_4.99</td>\n",
       "      <td>free trial</td>\n",
       "      <td>2023-06-01</td>\n",
       "      <td>Australia</td>\n",
       "      <td>Apple iPhone</td>\n",
       "      <td>Apple iPhone 14 Pro</td>\n",
       "      <td>16.3.1</td>\n",
       "      <td>English</td>\n",
       "      <td>light</td>\n",
       "      <td>NaN</td>\n",
       "    </tr>\n",
       "  </tbody>\n",
       "</table>\n",
       "</div>"
      ],
      "text/plain": [
       "                                user_id install_date   \n",
       "0  ed7bba31-2aa0-411d-ab51-727e91bb91af   2023-06-01  \\\n",
       "1  b28a53ac-a75b-401e-a839-56b68fc84581   2023-06-01   \n",
       "2  2d4e82cc-845e-408d-a2c8-545648349c4f   2023-06-01   \n",
       "3  e9d0bd86-138e-4e78-ac99-e45b85518567   2023-06-01   \n",
       "4  e6c5188d-3152-423a-9c9e-9846fb81f420   2023-06-01   \n",
       "\n",
       "            subscription_name payment_type event_date        country   \n",
       "0  subs_weekly_7dayTrial_4.99   free trial 2023-06-01      Argentina  \\\n",
       "1  subs_weekly_7dayTrial_4.99   free trial 2023-06-01  United States   \n",
       "2  subs_weekly_7dayTrial_4.99   free trial 2023-06-01         Brazil   \n",
       "3  subs_weekly_7dayTrial_4.99   free trial 2023-06-01          Japan   \n",
       "4  subs_weekly_7dayTrial_4.99   free trial 2023-06-01      Australia   \n",
       "\n",
       "  device_family              device_type os_version    language system_theme   \n",
       "0  Apple iPhone           Apple iPhone X     16.4.1     Spanish        light  \\\n",
       "1  Apple iPhone  Apple iPhone 13 Pro Max     16.4.1     English        light   \n",
       "2  Apple iPhone           Apple iPhone 8     16.1.1  Portuguese         dark   \n",
       "3  Apple iPhone          Apple iPhone XS       16.5    Japanese         dark   \n",
       "4  Apple iPhone      Apple iPhone 14 Pro     16.3.1     English        light   \n",
       "\n",
       "  refund  \n",
       "0    NaN  \n",
       "1    NaN  \n",
       "2    NaN  \n",
       "3    NaN  \n",
       "4    NaN  "
      ]
     },
     "execution_count": 2,
     "metadata": {},
     "output_type": "execute_result"
    }
   ],
   "source": [
    "ios_data = pd.read_excel(\"Case Task.xlsx\", sheet_name=\"iOS DATA\")\n",
    "ios_data.head()"
   ]
  },
  {
   "cell_type": "code",
   "execution_count": 3,
   "id": "9fdc3246",
   "metadata": {},
   "outputs": [
    {
     "data": {
      "text/plain": [
       "(7276, 12)"
      ]
     },
     "execution_count": 3,
     "metadata": {},
     "output_type": "execute_result"
    }
   ],
   "source": [
    "ios_data.shape"
   ]
  },
  {
   "cell_type": "code",
   "execution_count": 4,
   "id": "321a9acb",
   "metadata": {},
   "outputs": [
    {
     "data": {
      "text/plain": [
       "user_id                      object\n",
       "install_date                 object\n",
       "subscription_name            object\n",
       "payment_type                 object\n",
       "event_date           datetime64[ns]\n",
       "country                      object\n",
       "device_family                object\n",
       "device_type                  object\n",
       "os_version                   object\n",
       "language                     object\n",
       "system_theme                 object\n",
       "refund                       object\n",
       "dtype: object"
      ]
     },
     "execution_count": 4,
     "metadata": {},
     "output_type": "execute_result"
    }
   ],
   "source": [
    "ios_data.dtypes"
   ]
  },
  {
   "cell_type": "code",
   "execution_count": 6,
   "id": "95bab789",
   "metadata": {},
   "outputs": [
    {
     "data": {
      "text/plain": [
       "3341"
      ]
     },
     "execution_count": 6,
     "metadata": {},
     "output_type": "execute_result"
    }
   ],
   "source": [
    "# Amount of trials\n",
    "\n",
    "ios_data[ios_data[\"payment_type\"] == \"free trial\"][\"payment_type\"].count()"
   ]
  },
  {
   "cell_type": "code",
   "execution_count": 10,
   "id": "65f958a5",
   "metadata": {},
   "outputs": [
    {
     "data": {
      "text/plain": [
       "user_id\n",
       "f05fff38-69d6-4af8-a90e-53d9ddbac5ef    6\n",
       "e73d6660-876f-4897-9c48-d73867ecb784    6\n",
       "078d91bc-206b-4f40-9e60-a77cc1c9b017    6\n",
       "79af4876-b0e1-4108-99fa-7c893270ced1    6\n",
       "2971f02c-0586-47f1-9e14-00ba900e8d22    6\n",
       "                                       ..\n",
       "47f3c3d1-6c72-4546-98ea-611c93c82837    1\n",
       "23e42a75-d37b-488d-bd1e-b6a07dbb6dab    1\n",
       "65cc5bea-fb53-414c-a7e4-30f0fbc029c5    1\n",
       "2981d985-2904-45f4-b89a-8b436f3ec0f8    1\n",
       "6976e177-193c-42f3-88b1-8676cf478ecd    1\n",
       "Name: count, Length: 3341, dtype: int64"
      ]
     },
     "execution_count": 10,
     "metadata": {},
     "output_type": "execute_result"
    }
   ],
   "source": [
    "# Amount of 1st purchase\n",
    "\n",
    "vc = ios_data['user_id'].value_counts()\n",
    "vc"
   ]
  },
  {
   "cell_type": "code",
   "execution_count": 15,
   "id": "d7455b18",
   "metadata": {},
   "outputs": [
    {
     "data": {
      "text/plain": [
       "1170"
      ]
     },
     "execution_count": 15,
     "metadata": {},
     "output_type": "execute_result"
    }
   ],
   "source": [
    "len([x for x in list(vc) if x >= 2])"
   ]
  },
  {
   "cell_type": "code",
   "execution_count": 16,
   "id": "2d92ae34",
   "metadata": {},
   "outputs": [
    {
     "data": {
      "text/plain": [
       "870"
      ]
     },
     "execution_count": 16,
     "metadata": {},
     "output_type": "execute_result"
    }
   ],
   "source": [
    "# Amount of 2nd purchases\n",
    "\n",
    "len([x for x in list(vc) if x >= 3])"
   ]
  },
  {
   "cell_type": "code",
   "execution_count": 17,
   "id": "7e78f8e1",
   "metadata": {},
   "outputs": [
    {
     "data": {
      "text/plain": [
       "724"
      ]
     },
     "execution_count": 17,
     "metadata": {},
     "output_type": "execute_result"
    }
   ],
   "source": [
    "# Amount of 3rd purchases\n",
    "\n",
    "len([x for x in list(vc) if x >= 4])"
   ]
  },
  {
   "cell_type": "code",
   "execution_count": 18,
   "id": "e1b20dae",
   "metadata": {},
   "outputs": [
    {
     "data": {
      "text/plain": [
       "620"
      ]
     },
     "execution_count": 18,
     "metadata": {},
     "output_type": "execute_result"
    }
   ],
   "source": [
    "# Amount of 4th purchases\n",
    "\n",
    "len([x for x in list(vc) if x >= 5])"
   ]
  },
  {
   "cell_type": "code",
   "execution_count": 19,
   "id": "d56fb2e1",
   "metadata": {},
   "outputs": [
    {
     "data": {
      "text/plain": [
       "551"
      ]
     },
     "execution_count": 19,
     "metadata": {},
     "output_type": "execute_result"
    }
   ],
   "source": [
    "# Amount of 5th purchases\n",
    "\n",
    "len([x for x in list(vc) if x >= 6])"
   ]
  },
  {
   "cell_type": "code",
   "execution_count": 24,
   "id": "c4a9c725",
   "metadata": {},
   "outputs": [
    {
     "data": {
      "text/html": [
       "<div>\n",
       "<style scoped>\n",
       "    .dataframe tbody tr th:only-of-type {\n",
       "        vertical-align: middle;\n",
       "    }\n",
       "\n",
       "    .dataframe tbody tr th {\n",
       "        vertical-align: top;\n",
       "    }\n",
       "\n",
       "    .dataframe thead th {\n",
       "        text-align: right;\n",
       "    }\n",
       "</style>\n",
       "<table border=\"1\" class=\"dataframe\">\n",
       "  <thead>\n",
       "    <tr style=\"text-align: right;\">\n",
       "      <th></th>\n",
       "      <th>Tier1</th>\n",
       "      <th>Rich west (RW)</th>\n",
       "      <th>Spanish region (Spanish)</th>\n",
       "    </tr>\n",
       "  </thead>\n",
       "  <tbody>\n",
       "    <tr>\n",
       "      <th>NaN</th>\n",
       "      <td>United States</td>\n",
       "      <td>Sweden</td>\n",
       "      <td>Chile</td>\n",
       "    </tr>\n",
       "    <tr>\n",
       "      <th>NaN</th>\n",
       "      <td>Canada</td>\n",
       "      <td>Ireland</td>\n",
       "      <td>Venezuela</td>\n",
       "    </tr>\n",
       "    <tr>\n",
       "      <th>NaN</th>\n",
       "      <td>United Kingdom</td>\n",
       "      <td>Belgium</td>\n",
       "      <td>Spain</td>\n",
       "    </tr>\n",
       "    <tr>\n",
       "      <th>NaN</th>\n",
       "      <td>Australia</td>\n",
       "      <td>France</td>\n",
       "      <td>Puerto Rico</td>\n",
       "    </tr>\n",
       "    <tr>\n",
       "      <th>NaN</th>\n",
       "      <td>NaN</td>\n",
       "      <td>Italy</td>\n",
       "      <td>Bolivia</td>\n",
       "    </tr>\n",
       "    <tr>\n",
       "      <th>NaN</th>\n",
       "      <td>NaN</td>\n",
       "      <td>Austria</td>\n",
       "      <td>Dominican Republic</td>\n",
       "    </tr>\n",
       "    <tr>\n",
       "      <th>NaN</th>\n",
       "      <td>NaN</td>\n",
       "      <td>Germany</td>\n",
       "      <td>Ecuador</td>\n",
       "    </tr>\n",
       "    <tr>\n",
       "      <th>NaN</th>\n",
       "      <td>NaN</td>\n",
       "      <td>Denmark</td>\n",
       "      <td>Panama</td>\n",
       "    </tr>\n",
       "    <tr>\n",
       "      <th>NaN</th>\n",
       "      <td>NaN</td>\n",
       "      <td>Norway</td>\n",
       "      <td>Paraguay</td>\n",
       "    </tr>\n",
       "    <tr>\n",
       "      <th>NaN</th>\n",
       "      <td>NaN</td>\n",
       "      <td>Switzerland</td>\n",
       "      <td>Uruguay</td>\n",
       "    </tr>\n",
       "    <tr>\n",
       "      <th>NaN</th>\n",
       "      <td>NaN</td>\n",
       "      <td>Netherlands</td>\n",
       "      <td>NaN</td>\n",
       "    </tr>\n",
       "    <tr>\n",
       "      <th>NaN</th>\n",
       "      <td>NaN</td>\n",
       "      <td>New Zealand</td>\n",
       "      <td>NaN</td>\n",
       "    </tr>\n",
       "    <tr>\n",
       "      <th>NaN</th>\n",
       "      <td>NaN</td>\n",
       "      <td>Finland</td>\n",
       "      <td>NaN</td>\n",
       "    </tr>\n",
       "    <tr>\n",
       "      <th>NaN</th>\n",
       "      <td>NaN</td>\n",
       "      <td>Luxembourg</td>\n",
       "      <td>NaN</td>\n",
       "    </tr>\n",
       "    <tr>\n",
       "      <th>NaN</th>\n",
       "      <td>NaN</td>\n",
       "      <td>Iceland</td>\n",
       "      <td>NaN</td>\n",
       "    </tr>\n",
       "  </tbody>\n",
       "</table>\n",
       "</div>"
      ],
      "text/plain": [
       "              Tier1 Rich west (RW) Spanish region (Spanish)\n",
       "NaN   United States         Sweden                    Chile\n",
       "NaN          Canada        Ireland                Venezuela\n",
       "NaN  United Kingdom        Belgium                    Spain\n",
       "NaN       Australia         France              Puerto Rico\n",
       "NaN             NaN          Italy                  Bolivia\n",
       "NaN             NaN        Austria       Dominican Republic\n",
       "NaN             NaN        Germany                  Ecuador\n",
       "NaN             NaN        Denmark                   Panama\n",
       "NaN             NaN         Norway                 Paraguay\n",
       "NaN             NaN    Switzerland                  Uruguay\n",
       "NaN             NaN    Netherlands                      NaN\n",
       "NaN             NaN    New Zealand                      NaN\n",
       "NaN             NaN        Finland                      NaN\n",
       "NaN             NaN     Luxembourg                      NaN\n",
       "NaN             NaN        Iceland                      NaN"
      ]
     },
     "execution_count": 24,
     "metadata": {},
     "output_type": "execute_result"
    }
   ],
   "source": [
    "countries = pd.read_excel(\"Case Task.xlsx\", sheet_name=\"Country List\", header=1, index_col=0)\n",
    "countries"
   ]
  },
  {
   "cell_type": "code",
   "execution_count": 28,
   "id": "2f59fff2",
   "metadata": {},
   "outputs": [
    {
     "data": {
      "text/plain": [
       "['United States', 'Canada', 'United Kingdom', 'Australia']"
      ]
     },
     "execution_count": 28,
     "metadata": {},
     "output_type": "execute_result"
    }
   ],
   "source": [
    "list(countries[\"Tier1\"].dropna())"
   ]
  },
  {
   "cell_type": "code",
   "execution_count": 31,
   "id": "0bf68e3c",
   "metadata": {},
   "outputs": [
    {
     "data": {
      "text/plain": [
       "2126"
      ]
     },
     "execution_count": 31,
     "metadata": {},
     "output_type": "execute_result"
    }
   ],
   "source": [
    "# Tier1\n",
    "\n",
    "ios_data[ios_data[\"country\"].isin(list(countries[\"Tier1\"]))][\"country\"].count()"
   ]
  },
  {
   "cell_type": "code",
   "execution_count": 32,
   "id": "e134cd79",
   "metadata": {},
   "outputs": [
    {
     "data": {
      "text/plain": [
       "552"
      ]
     },
     "execution_count": 32,
     "metadata": {},
     "output_type": "execute_result"
    }
   ],
   "source": [
    "# RW\n",
    "\n",
    "ios_data[ios_data[\"country\"].isin(list(countries[\"Rich west (RW)\"]))][\"country\"].count()"
   ]
  },
  {
   "cell_type": "code",
   "execution_count": 33,
   "id": "c8692675",
   "metadata": {},
   "outputs": [
    {
     "data": {
      "text/plain": [
       "258"
      ]
     },
     "execution_count": 33,
     "metadata": {},
     "output_type": "execute_result"
    }
   ],
   "source": [
    "# Spanish\n",
    "\n",
    "ios_data[ios_data[\"country\"].isin(list(countries[\"Spanish region (Spanish)\"]))][\"country\"].count()"
   ]
  },
  {
   "cell_type": "code",
   "execution_count": 35,
   "id": "db1eee52",
   "metadata": {},
   "outputs": [
    {
     "data": {
      "text/plain": [
       "4340"
      ]
     },
     "execution_count": 35,
     "metadata": {},
     "output_type": "execute_result"
    }
   ],
   "source": [
    "# Other\n",
    "\n",
    "excluded_countries = countries[\"Tier1\"].tolist() + countries[\"Rich west (RW)\"].tolist() + countries[\"Spanish region (Spanish)\"].tolist()\n",
    "ios_data[~ios_data[\"country\"].isin(excluded_countries)][\"country\"].count()"
   ]
  },
  {
   "cell_type": "code",
   "execution_count": 42,
   "id": "5c34f8a3",
   "metadata": {},
   "outputs": [
    {
     "data": {
      "text/plain": [
       "(859,)"
      ]
     },
     "execution_count": 42,
     "metadata": {},
     "output_type": "execute_result"
    }
   ],
   "source": [
    "# Conversion to 1st purchase\n",
    "\n",
    "vc_tier1 = ios_data[ios_data[\"country\"].isin(list(countries[\"Tier1\"]))]['user_id'].value_counts()\n",
    "vc_tier1.shape"
   ]
  },
  {
   "cell_type": "code",
   "execution_count": 40,
   "id": "7d8d0777",
   "metadata": {},
   "outputs": [
    {
     "data": {
      "text/plain": [
       "360"
      ]
     },
     "execution_count": 40,
     "metadata": {},
     "output_type": "execute_result"
    }
   ],
   "source": [
    "len([x for x in list(vc_tier1) if x >= 2])"
   ]
  },
  {
   "cell_type": "code",
   "execution_count": 41,
   "id": "4cee95fd",
   "metadata": {},
   "outputs": [
    {
     "data": {
      "text/plain": [
       "285"
      ]
     },
     "execution_count": 41,
     "metadata": {},
     "output_type": "execute_result"
    }
   ],
   "source": [
    "len([x for x in list(vc_tier1) if x >= 3])"
   ]
  },
  {
   "cell_type": "code",
   "execution_count": 43,
   "id": "09e79ff1",
   "metadata": {},
   "outputs": [
    {
     "data": {
      "text/plain": [
       "(230,)"
      ]
     },
     "execution_count": 43,
     "metadata": {},
     "output_type": "execute_result"
    }
   ],
   "source": [
    "vc_rw = ios_data[ios_data[\"country\"].isin(list(countries[\"Rich west (RW)\"]))]['user_id'].value_counts()\n",
    "vc_rw.shape"
   ]
  },
  {
   "cell_type": "code",
   "execution_count": 44,
   "id": "8393f516",
   "metadata": {},
   "outputs": [
    {
     "data": {
      "text/plain": [
       "94"
      ]
     },
     "execution_count": 44,
     "metadata": {},
     "output_type": "execute_result"
    }
   ],
   "source": [
    "len([x for x in list(vc_rw) if x >= 2])"
   ]
  },
  {
   "cell_type": "code",
   "execution_count": 45,
   "id": "57bacbbb",
   "metadata": {},
   "outputs": [
    {
     "data": {
      "text/plain": [
       "74"
      ]
     },
     "execution_count": 45,
     "metadata": {},
     "output_type": "execute_result"
    }
   ],
   "source": [
    "len([x for x in list(vc_rw) if x >= 3])"
   ]
  },
  {
   "cell_type": "code",
   "execution_count": 46,
   "id": "a4c34eff",
   "metadata": {},
   "outputs": [
    {
     "data": {
      "text/plain": [
       "(137,)"
      ]
     },
     "execution_count": 46,
     "metadata": {},
     "output_type": "execute_result"
    }
   ],
   "source": [
    "vc_spanish = ios_data[ios_data[\"country\"].isin(list(countries[\"Spanish region (Spanish)\"]))]['user_id'].value_counts()\n",
    "vc_spanish.shape"
   ]
  },
  {
   "cell_type": "code",
   "execution_count": 47,
   "id": "48f66d00",
   "metadata": {},
   "outputs": [
    {
     "data": {
      "text/plain": [
       "42"
      ]
     },
     "execution_count": 47,
     "metadata": {},
     "output_type": "execute_result"
    }
   ],
   "source": [
    "len([x for x in list(vc_spanish) if x >= 2])"
   ]
  },
  {
   "cell_type": "code",
   "execution_count": 48,
   "id": "70912fa4",
   "metadata": {},
   "outputs": [
    {
     "data": {
      "text/plain": [
       "27"
      ]
     },
     "execution_count": 48,
     "metadata": {},
     "output_type": "execute_result"
    }
   ],
   "source": [
    "len([x for x in list(vc_spanish) if x >= 3])"
   ]
  },
  {
   "cell_type": "code",
   "execution_count": 49,
   "id": "2e10489e",
   "metadata": {},
   "outputs": [
    {
     "data": {
      "text/plain": [
       "(2126,)"
      ]
     },
     "execution_count": 49,
     "metadata": {},
     "output_type": "execute_result"
    }
   ],
   "source": [
    "excluded_countries = countries[\"Tier1\"].tolist() + countries[\"Rich west (RW)\"].tolist() + countries[\"Spanish region (Spanish)\"].tolist()\n",
    "vc_other = ios_data[~ios_data[\"country\"].isin(excluded_countries)][\"user_id\"].value_counts()\n",
    "vc_other.shape"
   ]
  }
 ],
 "metadata": {
  "kernelspec": {
   "display_name": "Python 3 (ipykernel)",
   "language": "python",
   "name": "python3"
  },
  "language_info": {
   "codemirror_mode": {
    "name": "ipython",
    "version": 3
   },
   "file_extension": ".py",
   "mimetype": "text/x-python",
   "name": "python",
   "nbconvert_exporter": "python",
   "pygments_lexer": "ipython3",
   "version": "3.9.13"
  }
 },
 "nbformat": 4,
 "nbformat_minor": 5
}
